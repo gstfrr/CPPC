{
 "cells": [
  {
   "cell_type": "code",
   "execution_count": 1,
   "metadata": {},
   "outputs": [
    {
     "name": "stdout",
     "output_type": "stream",
     "text": [
      "CLiente recebeu:  b'valeu'\n"
     ]
    }
   ],
   "source": [
    "import socket\n",
    "\n",
    "HOST_SERVER = socket.getfqdn(socket.gethostbyname(socket.gethostname()))\n",
    "# HOST = '177.105.60.133'  # The remote host\n",
    "PORT = 11111  # The same port as used by the server\n",
    "s = socket.socket(socket.AF_INET, socket.SOCK_STREAM)\n",
    "s.connect((HOST_SERVER, PORT))\n",
    "\n",
    "# mensagem para enviar\n",
    "msg = 'Hello, bruno faz a porra do crc'\n",
    "\n",
    "#enviar a mensagem\n",
    "s.sendall(msg.encode())\n",
    "\n",
    "#receber a resposta\n",
    "data = s.recv(1024)\n",
    "print('CLiente recebeu: ', repr(data))\n",
    "\n",
    "s.close()\n",
    "\n"
   ]
  },
  {
   "cell_type": "code",
   "execution_count": null,
   "metadata": {},
   "outputs": [],
   "source": []
  }
 ],
 "metadata": {
  "kernelspec": {
   "display_name": "Python 3",
   "language": "python",
   "name": "python3"
  },
  "language_info": {
   "codemirror_mode": {
    "name": "ipython",
    "version": 3
   },
   "file_extension": ".py",
   "mimetype": "text/x-python",
   "name": "python",
   "nbconvert_exporter": "python",
   "pygments_lexer": "ipython3",
   "version": "3.6.5"
  }
 },
 "nbformat": 4,
 "nbformat_minor": 2
}
